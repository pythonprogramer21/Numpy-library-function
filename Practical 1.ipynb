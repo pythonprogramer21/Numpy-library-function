{
 "cells": [
  {
   "cell_type": "code",
   "execution_count": 1,
   "id": "288400a7",
   "metadata": {},
   "outputs": [],
   "source": [
    "import numpy as np"
   ]
  },
  {
   "cell_type": "code",
   "execution_count": 3,
   "id": "a0d2e7a6",
   "metadata": {},
   "outputs": [
    {
     "data": {
      "text/plain": [
       "array([1, 2, 3, 4, 5])"
      ]
     },
     "execution_count": 3,
     "metadata": {},
     "output_type": "execute_result"
    }
   ],
   "source": [
    "k=np.array([1,2,3,4,5])\n",
    "k"
   ]
  },
  {
   "cell_type": "code",
   "execution_count": 6,
   "id": "2ff95018",
   "metadata": {},
   "outputs": [
    {
     "ename": "TypeError",
     "evalue": "array() takes from 1 to 2 positional arguments but 3 were given",
     "output_type": "error",
     "traceback": [
      "\u001b[1;31m---------------------------------------------------------------------------\u001b[0m",
      "\u001b[1;31mTypeError\u001b[0m                                 Traceback (most recent call last)",
      "\u001b[1;32m~\\AppData\\Local\\Temp/ipykernel_3940/1541890132.py\u001b[0m in \u001b[0;36m<module>\u001b[1;34m\u001b[0m\n\u001b[1;32m----> 1\u001b[1;33m \u001b[0mk1\u001b[0m\u001b[1;33m=\u001b[0m\u001b[0mnp\u001b[0m\u001b[1;33m.\u001b[0m\u001b[0marray\u001b[0m\u001b[1;33m(\u001b[0m\u001b[1;33m[\u001b[0m\u001b[1;36m1\u001b[0m\u001b[1;33m,\u001b[0m\u001b[1;36m2\u001b[0m\u001b[1;33m,\u001b[0m\u001b[1;36m3\u001b[0m\u001b[1;33m]\u001b[0m\u001b[1;33m,\u001b[0m\u001b[1;33m[\u001b[0m\u001b[1;36m6\u001b[0m\u001b[1;33m,\u001b[0m\u001b[1;36m4\u001b[0m\u001b[1;33m,\u001b[0m\u001b[1;36m5\u001b[0m\u001b[1;33m]\u001b[0m\u001b[1;33m,\u001b[0m\u001b[1;33m[\u001b[0m\u001b[1;36m20\u001b[0m\u001b[1;33m,\u001b[0m\u001b[1;36m78\u001b[0m\u001b[1;33m,\u001b[0m\u001b[1;36m4\u001b[0m\u001b[1;33m]\u001b[0m\u001b[1;33m)\u001b[0m\u001b[1;33m\u001b[0m\u001b[1;33m\u001b[0m\u001b[0m\n\u001b[0m\u001b[0;32m      2\u001b[0m \u001b[0mk1\u001b[0m\u001b[1;33m\u001b[0m\u001b[1;33m\u001b[0m\u001b[0m\n",
      "\u001b[1;31mTypeError\u001b[0m: array() takes from 1 to 2 positional arguments but 3 were given"
     ]
    }
   ],
   "source": [
    "k1=np.array([1,2,3],[6,4,5],[20,78,4])\n",
    "k1"
   ]
  },
  {
   "cell_type": "code",
   "execution_count": 7,
   "id": "179a5fe5",
   "metadata": {},
   "outputs": [
    {
     "data": {
      "text/plain": [
       "5"
      ]
     },
     "execution_count": 7,
     "metadata": {},
     "output_type": "execute_result"
    }
   ],
   "source": [
    "k.size"
   ]
  },
  {
   "cell_type": "code",
   "execution_count": 8,
   "id": "5898aba7",
   "metadata": {},
   "outputs": [
    {
     "data": {
      "text/plain": [
       "(5,)"
      ]
     },
     "execution_count": 8,
     "metadata": {},
     "output_type": "execute_result"
    }
   ],
   "source": [
    "k.shape"
   ]
  },
  {
   "cell_type": "code",
   "execution_count": 10,
   "id": "6db63026",
   "metadata": {},
   "outputs": [
    {
     "data": {
      "text/plain": [
       "dtype('int32')"
      ]
     },
     "execution_count": 10,
     "metadata": {},
     "output_type": "execute_result"
    }
   ],
   "source": [
    "k.dtype"
   ]
  },
  {
   "cell_type": "code",
   "execution_count": 18,
   "id": "1aa6749e",
   "metadata": {},
   "outputs": [
    {
     "data": {
      "text/plain": [
       "array([1, 1])"
      ]
     },
     "execution_count": 18,
     "metadata": {},
     "output_type": "execute_result"
    }
   ],
   "source": [
    "p=np.ones(2,dtype=int)\n",
    "p"
   ]
  },
  {
   "cell_type": "code",
   "execution_count": 22,
   "id": "f5048430",
   "metadata": {},
   "outputs": [
    {
     "data": {
      "text/plain": [
       "array([[1, 1, 1],\n",
       "       [1, 1, 1],\n",
       "       [1, 1, 1]])"
      ]
     },
     "execution_count": 22,
     "metadata": {},
     "output_type": "execute_result"
    }
   ],
   "source": [
    "l=np.ones(9,dtype=int).reshape(3,3)\n",
    "l"
   ]
  },
  {
   "cell_type": "code",
   "execution_count": 24,
   "id": "904d4557",
   "metadata": {},
   "outputs": [
    {
     "data": {
      "text/plain": [
       "array([[False, False, False, False],\n",
       "       [False, False, False, False],\n",
       "       [False, False, False, False]])"
      ]
     },
     "execution_count": 24,
     "metadata": {},
     "output_type": "execute_result"
    }
   ],
   "source": [
    "j=np.zeros(12,dtype=bool).reshape(3,4)\n",
    "j"
   ]
  },
  {
   "cell_type": "code",
   "execution_count": 27,
   "id": "14dab39e",
   "metadata": {},
   "outputs": [
    {
     "data": {
      "text/plain": [
       "array([8.56235455e-312, 0.00000000e+000, 1.87138809e-310])"
      ]
     },
     "execution_count": 27,
     "metadata": {},
     "output_type": "execute_result"
    }
   ],
   "source": [
    "d=np.empty(3)\n",
    "d"
   ]
  },
  {
   "cell_type": "code",
   "execution_count": 28,
   "id": "ff1783ec",
   "metadata": {},
   "outputs": [
    {
     "data": {
      "text/plain": [
       "array([10, 11, 12, 13, 14, 15, 16, 17, 18, 19, 20, 21, 22, 23, 24, 25, 26,\n",
       "       27, 28, 29, 30, 31, 32, 33, 34, 35, 36, 37, 38, 39, 40, 41, 42, 43,\n",
       "       44, 45, 46, 47, 48, 49, 50, 51, 52, 53, 54, 55, 56, 57, 58, 59, 60,\n",
       "       61, 62, 63, 64, 65, 66, 67, 68, 69, 70, 71, 72, 73, 74, 75, 76, 77])"
      ]
     },
     "execution_count": 28,
     "metadata": {},
     "output_type": "execute_result"
    }
   ],
   "source": [
    "w=np.arange(10,78)\n",
    "w"
   ]
  },
  {
   "cell_type": "code",
   "execution_count": 30,
   "id": "ffb763fc",
   "metadata": {},
   "outputs": [
    {
     "data": {
      "text/plain": [
       "array([10, 12, 14, 16, 18, 20, 22, 24, 26, 28, 30, 32, 34, 36, 38, 40, 42,\n",
       "       44, 46, 48, 50, 52, 54, 56, 58, 60, 62, 64, 66, 68, 70, 72, 74, 76])"
      ]
     },
     "execution_count": 30,
     "metadata": {},
     "output_type": "execute_result"
    }
   ],
   "source": [
    "w=np.arange(10,78,2)\n",
    "w"
   ]
  },
  {
   "cell_type": "code",
   "execution_count": 32,
   "id": "31e52be2",
   "metadata": {},
   "outputs": [
    {
     "data": {
      "text/plain": [
       "array([10.        , 14.53333333, 19.06666667, 23.6       , 28.13333333,\n",
       "       32.66666667, 37.2       , 41.73333333, 46.26666667, 50.8       ,\n",
       "       55.33333333, 59.86666667, 64.4       , 68.93333333, 73.46666667,\n",
       "       78.        ])"
      ]
     },
     "execution_count": 32,
     "metadata": {},
     "output_type": "execute_result"
    }
   ],
   "source": [
    "w=np.linspace(10,78,16)\n",
    "w"
   ]
  },
  {
   "cell_type": "code",
   "execution_count": 33,
   "id": "638516cc",
   "metadata": {},
   "outputs": [
    {
     "data": {
      "text/plain": [
       "array([100.        , 101.6064257 , 103.21285141, 104.81927711,\n",
       "       106.42570281, 108.03212851, 109.63855422, 111.24497992,\n",
       "       112.85140562, 114.45783133, 116.06425703, 117.67068273,\n",
       "       119.27710843, 120.88353414, 122.48995984, 124.09638554,\n",
       "       125.70281124, 127.30923695, 128.91566265, 130.52208835,\n",
       "       132.12851406, 133.73493976, 135.34136546, 136.94779116,\n",
       "       138.55421687, 140.16064257, 141.76706827, 143.37349398,\n",
       "       144.97991968, 146.58634538, 148.19277108, 149.79919679,\n",
       "       151.40562249, 153.01204819, 154.6184739 , 156.2248996 ,\n",
       "       157.8313253 , 159.437751  , 161.04417671, 162.65060241,\n",
       "       164.25702811, 165.86345382, 167.46987952, 169.07630522,\n",
       "       170.68273092, 172.28915663, 173.89558233, 175.50200803,\n",
       "       177.10843373, 178.71485944, 180.32128514, 181.92771084,\n",
       "       183.53413655, 185.14056225, 186.74698795, 188.35341365,\n",
       "       189.95983936, 191.56626506, 193.17269076, 194.77911647,\n",
       "       196.38554217, 197.99196787, 199.59839357, 201.20481928,\n",
       "       202.81124498, 204.41767068, 206.02409639, 207.63052209,\n",
       "       209.23694779, 210.84337349, 212.4497992 , 214.0562249 ,\n",
       "       215.6626506 , 217.26907631, 218.87550201, 220.48192771,\n",
       "       222.08835341, 223.69477912, 225.30120482, 226.90763052,\n",
       "       228.51405622, 230.12048193, 231.72690763, 233.33333333,\n",
       "       234.93975904, 236.54618474, 238.15261044, 239.75903614,\n",
       "       241.36546185, 242.97188755, 244.57831325, 246.18473896,\n",
       "       247.79116466, 249.39759036, 251.00401606, 252.61044177,\n",
       "       254.21686747, 255.82329317, 257.42971888, 259.03614458,\n",
       "       260.64257028, 262.24899598, 263.85542169, 265.46184739,\n",
       "       267.06827309, 268.6746988 , 270.2811245 , 271.8875502 ,\n",
       "       273.4939759 , 275.10040161, 276.70682731, 278.31325301,\n",
       "       279.91967871, 281.52610442, 283.13253012, 284.73895582,\n",
       "       286.34538153, 287.95180723, 289.55823293, 291.16465863,\n",
       "       292.77108434, 294.37751004, 295.98393574, 297.59036145,\n",
       "       299.19678715, 300.80321285, 302.40963855, 304.01606426,\n",
       "       305.62248996, 307.22891566, 308.83534137, 310.44176707,\n",
       "       312.04819277, 313.65461847, 315.26104418, 316.86746988,\n",
       "       318.47389558, 320.08032129, 321.68674699, 323.29317269,\n",
       "       324.89959839, 326.5060241 , 328.1124498 , 329.7188755 ,\n",
       "       331.3253012 , 332.93172691, 334.53815261, 336.14457831,\n",
       "       337.75100402, 339.35742972, 340.96385542, 342.57028112,\n",
       "       344.17670683, 345.78313253, 347.38955823, 348.99598394,\n",
       "       350.60240964, 352.20883534, 353.81526104, 355.42168675,\n",
       "       357.02811245, 358.63453815, 360.24096386, 361.84738956,\n",
       "       363.45381526, 365.06024096, 366.66666667, 368.27309237,\n",
       "       369.87951807, 371.48594378, 373.09236948, 374.69879518,\n",
       "       376.30522088, 377.91164659, 379.51807229, 381.12449799,\n",
       "       382.73092369, 384.3373494 , 385.9437751 , 387.5502008 ,\n",
       "       389.15662651, 390.76305221, 392.36947791, 393.97590361,\n",
       "       395.58232932, 397.18875502, 398.79518072, 400.40160643,\n",
       "       402.00803213, 403.61445783, 405.22088353, 406.82730924,\n",
       "       408.43373494, 410.04016064, 411.64658635, 413.25301205,\n",
       "       414.85943775, 416.46586345, 418.07228916, 419.67871486,\n",
       "       421.28514056, 422.89156627, 424.49799197, 426.10441767,\n",
       "       427.71084337, 429.31726908, 430.92369478, 432.53012048,\n",
       "       434.13654618, 435.74297189, 437.34939759, 438.95582329,\n",
       "       440.562249  , 442.1686747 , 443.7751004 , 445.3815261 ,\n",
       "       446.98795181, 448.59437751, 450.20080321, 451.80722892,\n",
       "       453.41365462, 455.02008032, 456.62650602, 458.23293173,\n",
       "       459.83935743, 461.44578313, 463.05220884, 464.65863454,\n",
       "       466.26506024, 467.87148594, 469.47791165, 471.08433735,\n",
       "       472.69076305, 474.29718876, 475.90361446, 477.51004016,\n",
       "       479.11646586, 480.72289157, 482.32931727, 483.93574297,\n",
       "       485.54216867, 487.14859438, 488.75502008, 490.36144578,\n",
       "       491.96787149, 493.57429719, 495.18072289, 496.78714859,\n",
       "       498.3935743 , 500.        ])"
      ]
     },
     "execution_count": 33,
     "metadata": {},
     "output_type": "execute_result"
    }
   ],
   "source": [
    "w=np.linspace(100,500,250)\n",
    "w"
   ]
  },
  {
   "cell_type": "code",
   "execution_count": 34,
   "id": "5ab8c3b6",
   "metadata": {},
   "outputs": [
    {
     "data": {
      "text/plain": [
       "array([[10. , 12.5, 15. ],\n",
       "       [17.5, 20. , 22.5],\n",
       "       [25. , 27.5, 30. ]])"
      ]
     },
     "execution_count": 34,
     "metadata": {},
     "output_type": "execute_result"
    }
   ],
   "source": [
    "a=np.linspace(10,30,9).reshape(3,3)\n",
    "a"
   ]
  },
  {
   "cell_type": "code",
   "execution_count": 35,
   "id": "8e137a1f",
   "metadata": {},
   "outputs": [
    {
     "data": {
      "text/plain": [
       "array([[10. , 17.5, 25. ],\n",
       "       [12.5, 20. , 27.5],\n",
       "       [15. , 22.5, 30. ]])"
      ]
     },
     "execution_count": 35,
     "metadata": {},
     "output_type": "execute_result"
    }
   ],
   "source": [
    "a.transpose()"
   ]
  },
  {
   "cell_type": "code",
   "execution_count": 36,
   "id": "90bbc2f0",
   "metadata": {},
   "outputs": [
    {
     "data": {
      "text/plain": [
       "array([[ 8.   , 15.375, 22.75 ],\n",
       "       [30.125, 37.5  , 44.875],\n",
       "       [52.25 , 59.625, 67.   ]])"
      ]
     },
     "execution_count": 36,
     "metadata": {},
     "output_type": "execute_result"
    }
   ],
   "source": [
    "b=np.linspace(8,67,9).reshape(3,3)\n",
    "b"
   ]
  },
  {
   "cell_type": "code",
   "execution_count": 37,
   "id": "013b0684",
   "metadata": {},
   "outputs": [
    {
     "data": {
      "text/plain": [
       "array([[10. , 12.5, 15. ],\n",
       "       [17.5, 20. , 22.5],\n",
       "       [25. , 27.5, 30. ]])"
      ]
     },
     "execution_count": 37,
     "metadata": {},
     "output_type": "execute_result"
    }
   ],
   "source": [
    "a+d"
   ]
  },
  {
   "cell_type": "code",
   "execution_count": 38,
   "id": "e2b8fb88",
   "metadata": {},
   "outputs": [
    {
     "ename": "AttributeError",
     "evalue": "'numpy.ndarray' object has no attribute 'add'",
     "output_type": "error",
     "traceback": [
      "\u001b[1;31m---------------------------------------------------------------------------\u001b[0m",
      "\u001b[1;31mAttributeError\u001b[0m                            Traceback (most recent call last)",
      "\u001b[1;32m~\\AppData\\Local\\Temp/ipykernel_3940/1316907227.py\u001b[0m in \u001b[0;36m<module>\u001b[1;34m\u001b[0m\n\u001b[1;32m----> 1\u001b[1;33m \u001b[0ma\u001b[0m\u001b[1;33m.\u001b[0m\u001b[0madd\u001b[0m\u001b[1;33m(\u001b[0m\u001b[0mb\u001b[0m\u001b[1;33m)\u001b[0m\u001b[1;33m\u001b[0m\u001b[1;33m\u001b[0m\u001b[0m\n\u001b[0m",
      "\u001b[1;31mAttributeError\u001b[0m: 'numpy.ndarray' object has no attribute 'add'"
     ]
    }
   ],
   "source": [
    "a.add(b)"
   ]
  },
  {
   "cell_type": "code",
   "execution_count": 39,
   "id": "5f3b724c",
   "metadata": {},
   "outputs": [
    {
     "data": {
      "text/plain": [
       "array([[18.   , 27.875, 37.75 ],\n",
       "       [47.625, 57.5  , 67.375],\n",
       "       [77.25 , 87.125, 97.   ]])"
      ]
     },
     "execution_count": 39,
     "metadata": {},
     "output_type": "execute_result"
    }
   ],
   "source": [
    "np.add(a,b)"
   ]
  },
  {
   "cell_type": "code",
   "execution_count": 40,
   "id": "210dd950",
   "metadata": {},
   "outputs": [
    {
     "data": {
      "text/plain": [
       "array([[  2.   ,  -2.875,  -7.75 ],\n",
       "       [-12.625, -17.5  , -22.375],\n",
       "       [-27.25 , -32.125, -37.   ]])"
      ]
     },
     "execution_count": 40,
     "metadata": {},
     "output_type": "execute_result"
    }
   ],
   "source": [
    "a-b"
   ]
  },
  {
   "cell_type": "code",
   "execution_count": 41,
   "id": "21887296",
   "metadata": {},
   "outputs": [
    {
     "data": {
      "text/plain": [
       "array([[  2.   ,  -2.875,  -7.75 ],\n",
       "       [-12.625, -17.5  , -22.375],\n",
       "       [-27.25 , -32.125, -37.   ]])"
      ]
     },
     "execution_count": 41,
     "metadata": {},
     "output_type": "execute_result"
    }
   ],
   "source": [
    "np.subtract(a,b)"
   ]
  },
  {
   "cell_type": "code",
   "execution_count": 42,
   "id": "bbf46a26",
   "metadata": {},
   "outputs": [
    {
     "data": {
      "text/plain": [
       "array([[1.25      , 0.81300813, 0.65934066],\n",
       "       [0.58091286, 0.53333333, 0.50139276],\n",
       "       [0.4784689 , 0.46121593, 0.44776119]])"
      ]
     },
     "execution_count": 42,
     "metadata": {},
     "output_type": "execute_result"
    }
   ],
   "source": [
    "a/b"
   ]
  },
  {
   "cell_type": "code",
   "execution_count": 43,
   "id": "65acc58f",
   "metadata": {},
   "outputs": [
    {
     "data": {
      "text/plain": [
       "array([[1.25      , 0.81300813, 0.65934066],\n",
       "       [0.58091286, 0.53333333, 0.50139276],\n",
       "       [0.4784689 , 0.46121593, 0.44776119]])"
      ]
     },
     "execution_count": 43,
     "metadata": {},
     "output_type": "execute_result"
    }
   ],
   "source": [
    "np.divide(a,b)"
   ]
  },
  {
   "cell_type": "code",
   "execution_count": 44,
   "id": "c7bb0485",
   "metadata": {},
   "outputs": [
    {
     "data": {
      "text/plain": [
       "array([[  80.    ,  192.1875,  341.25  ],\n",
       "       [ 527.1875,  750.    , 1009.6875],\n",
       "       [1306.25  , 1639.6875, 2010.    ]])"
      ]
     },
     "execution_count": 44,
     "metadata": {},
     "output_type": "execute_result"
    }
   ],
   "source": [
    "a*b"
   ]
  },
  {
   "cell_type": "code",
   "execution_count": 45,
   "id": "f19e7a4d",
   "metadata": {},
   "outputs": [
    {
     "data": {
      "text/plain": [
       "array([[  80.    ,  192.1875,  341.25  ],\n",
       "       [ 527.1875,  750.    , 1009.6875],\n",
       "       [1306.25  , 1639.6875, 2010.    ]])"
      ]
     },
     "execution_count": 45,
     "metadata": {},
     "output_type": "execute_result"
    }
   ],
   "source": [
    "np.multiply(a,b)"
   ]
  },
  {
   "cell_type": "code",
   "execution_count": 46,
   "id": "0f057d72",
   "metadata": {},
   "outputs": [
    {
     "data": {
      "text/plain": [
       "array([[1240.3125, 1516.875 , 1793.4375],\n",
       "       [1918.125 , 2360.625 , 2803.125 ],\n",
       "       [2595.9375, 3204.375 , 3812.8125]])"
      ]
     },
     "execution_count": 46,
     "metadata": {},
     "output_type": "execute_result"
    }
   ],
   "source": [
    "a@b"
   ]
  },
  {
   "cell_type": "code",
   "execution_count": 47,
   "id": "25a89ec2",
   "metadata": {},
   "outputs": [
    {
     "data": {
      "text/plain": [
       "array([[1240.3125, 1516.875 , 1793.4375],\n",
       "       [1918.125 , 2360.625 , 2803.125 ],\n",
       "       [2595.9375, 3204.375 , 3812.8125]])"
      ]
     },
     "execution_count": 47,
     "metadata": {},
     "output_type": "execute_result"
    }
   ],
   "source": [
    "a.dot(b)"
   ]
  },
  {
   "cell_type": "code",
   "execution_count": 48,
   "id": "5f2496b7",
   "metadata": {},
   "outputs": [
    {
     "data": {
      "text/plain": [
       "30.0"
      ]
     },
     "execution_count": 48,
     "metadata": {},
     "output_type": "execute_result"
    }
   ],
   "source": [
    "a.max()"
   ]
  },
  {
   "cell_type": "code",
   "execution_count": 49,
   "id": "42b38b9d",
   "metadata": {},
   "outputs": [
    {
     "data": {
      "text/plain": [
       "8"
      ]
     },
     "execution_count": 49,
     "metadata": {},
     "output_type": "execute_result"
    }
   ],
   "source": [
    "a.argmax()"
   ]
  },
  {
   "cell_type": "code",
   "execution_count": 50,
   "id": "a8fa3178",
   "metadata": {},
   "outputs": [
    {
     "data": {
      "text/plain": [
       "array([25. , 27.5, 30. ])"
      ]
     },
     "execution_count": 50,
     "metadata": {},
     "output_type": "execute_result"
    }
   ],
   "source": [
    "a.max(axis=0)"
   ]
  },
  {
   "cell_type": "code",
   "execution_count": 51,
   "id": "ed3d4d89",
   "metadata": {},
   "outputs": [
    {
     "data": {
      "text/plain": [
       "array([15. , 22.5, 30. ])"
      ]
     },
     "execution_count": 51,
     "metadata": {},
     "output_type": "execute_result"
    }
   ],
   "source": [
    "a.max(axis=1)"
   ]
  },
  {
   "cell_type": "code",
   "execution_count": 52,
   "id": "b29e6487",
   "metadata": {},
   "outputs": [
    {
     "data": {
      "text/plain": [
       "array([[10. , 12.5, 15. ],\n",
       "       [17.5, 20. , 22.5],\n",
       "       [25. , 27.5, 30. ]])"
      ]
     },
     "execution_count": 52,
     "metadata": {},
     "output_type": "execute_result"
    }
   ],
   "source": [
    "a"
   ]
  },
  {
   "cell_type": "code",
   "execution_count": 53,
   "id": "e15fe8a1",
   "metadata": {},
   "outputs": [
    {
     "data": {
      "text/plain": [
       "10.0"
      ]
     },
     "execution_count": 53,
     "metadata": {},
     "output_type": "execute_result"
    }
   ],
   "source": [
    "a.min()"
   ]
  },
  {
   "cell_type": "code",
   "execution_count": 54,
   "id": "9f607dd0",
   "metadata": {},
   "outputs": [
    {
     "data": {
      "text/plain": [
       "0"
      ]
     },
     "execution_count": 54,
     "metadata": {},
     "output_type": "execute_result"
    }
   ],
   "source": [
    "a.argmin()"
   ]
  },
  {
   "cell_type": "code",
   "execution_count": null,
   "id": "15ce2ada",
   "metadata": {},
   "outputs": [],
   "source": [
    "a.min(axis=0)"
   ]
  }
 ],
 "metadata": {
  "kernelspec": {
   "display_name": "Python 3 (ipykernel)",
   "language": "python",
   "name": "python3"
  },
  "language_info": {
   "codemirror_mode": {
    "name": "ipython",
    "version": 3
   },
   "file_extension": ".py",
   "mimetype": "text/x-python",
   "name": "python",
   "nbconvert_exporter": "python",
   "pygments_lexer": "ipython3",
   "version": "3.8.6"
  }
 },
 "nbformat": 4,
 "nbformat_minor": 5
}
